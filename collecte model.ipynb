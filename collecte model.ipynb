{
 "cells": [
  {
   "cell_type": "code",
   "execution_count": 1,
   "metadata": {},
   "outputs": [],
   "source": [
    "# Libraries\n",
    "import pandas as pd\n",
    "import numpy as np\n",
    "import re\n",
    "import xlsxwriter\n",
    "import unidecode"
   ]
  },
  {
   "cell_type": "code",
   "execution_count": 10,
   "metadata": {},
   "outputs": [],
   "source": [
    "def get_update(excel_file, sheet):\n",
    "    \n",
    "    # Open files\n",
    "    transacties = pd.read_excel(excel_file, sheet_name= sheet)\n",
    "    sjaarzen = pd.read_excel('Sjaarzen geslacht + naam + mail + nr.xlsx', 'Sheet1')\n",
    "    \n",
    "    # Bewerk namen sjaarzen\n",
    "    voornaam = []\n",
    "    achternaam = []\n",
    "    \n",
    "    for vnaam in sjaarzen['Naam']:\n",
    "        x = unidecode.unidecode(str(vnaam))\n",
    "        y = re.sub('-', '', str(x))\n",
    "        z = re.sub(r'\\s', '', y)\n",
    "        voornaam.append(z)\n",
    "    \n",
    "    for anaam in sjaarzen['Achternaam']:\n",
    "        x = unidecode.unidecode(str(anaam))\n",
    "        y = re.sub('-', '', str(x))\n",
    "        z = re.sub(r'\\s', '', y)\n",
    "        achternaam.append(z)\n",
    "    \n",
    "    # Vervang namen\n",
    "    sjaarzen['Naam'] = voornaam\n",
    "    sjaarzen['Achternaam'] = achternaam\n",
    "    \n",
    "    # Empty lists\n",
    "    tikkies = []\n",
    "    tikkieID = []\n",
    "    naam = []\n",
    "    \n",
    "    # Filter alleen de tikkies uit alle transacties\n",
    "    for omschrijving in transacties['Omschrijving']:\n",
    "        x = re.findall(r'^.*Tikkie.*$', str(omschrijving))\n",
    "        if x != []:\n",
    "            tikkies.append(x[0])\n",
    "            \n",
    "    # Creeer nieuw DF\n",
    "    collecte = transacties[transacties['Omschrijving'].isin(tikkies)]\n",
    "\n",
    "    # Filter voor Tikkie ID en Naam\n",
    "    for ID in tikkies:\n",
    "        x = re.search(r'Tikkie\\sID\\s\\d+', ID)\n",
    "        tikkieID.append(x[0])\n",
    "        y = ID.split('/')\n",
    "        if y[-1] != []:\n",
    "            a = re.sub(r'\\s', '', y[-1])\n",
    "            naam.append(a)\n",
    "    \n",
    "    # Maak nieuw DF\n",
    "    totaal_collecte = pd.DataFrame({'Naam': naam,\n",
    "                          'TikkieID': tikkieID,\n",
    "                          'Opgehaald': collecte['Transactiebedrag']\n",
    "                         }).groupby(['Naam']).sum()\n",
    "\n",
    "    totaal_collecte = totaal_collecte.sort_values(by = ['Opgehaald'], ascending = False)\n",
    "            \n",
    "    # Format DF      \n",
    "    sjaarzen['CombiNaam'] = sjaarzen['Naam'] + sjaarzen['Achternaam']\n",
    "    sjaarzen.drop('Unnamed: 5', axis = 1, inplace = True)\n",
    "        \n",
    "    # Merge DF and format\n",
    "    sjaarzen2 = sjaarzen.merge(totaal_collecte, how = 'left',\n",
    "                               right_on = 'Naam', left_on = 'CombiNaam')\n",
    "    sjaarzen2 = sjaarzen2.drop('CombiNaam', axis = 1)\n",
    "    sjaarzen2 = sjaarzen2.drop(index = [379, 380])\n",
    "    sjaarzen2 = sjaarzen2.fillna(value = 0)    \n",
    "    \n",
    "    # Save to excel file\n",
    "    writer = pd.ExcelWriter('Update.xlsx', engine='xlsxwriter')\n",
    "    sjaarzen2.to_excel(writer, sheet_name = 'Sheet1')\n",
    "    writer.save()\n",
    "\n",
    "    return sjaarzen2"
   ]
  },
  {
   "cell_type": "code",
   "execution_count": 11,
   "metadata": {},
   "outputs": [
    {
     "data": {
      "text/plain": [
       "69104.38"
      ]
     },
     "execution_count": 11,
     "metadata": {},
     "output_type": "execute_result"
    }
   ],
   "source": [
    "update = get_update('updates/laatste versie.xls', 'Sheet0')\n",
    "update['Opgehaald'].sum()"
   ]
  },
  {
   "cell_type": "code",
   "execution_count": null,
   "metadata": {},
   "outputs": [],
   "source": []
  }
 ],
 "metadata": {
  "kernelspec": {
   "display_name": "Python 3",
   "language": "python",
   "name": "python3"
  },
  "language_info": {
   "codemirror_mode": {
    "name": "ipython",
    "version": 3
   },
   "file_extension": ".py",
   "mimetype": "text/x-python",
   "name": "python",
   "nbconvert_exporter": "python",
   "pygments_lexer": "ipython3",
   "version": "3.8.5"
  }
 },
 "nbformat": 4,
 "nbformat_minor": 4
}
